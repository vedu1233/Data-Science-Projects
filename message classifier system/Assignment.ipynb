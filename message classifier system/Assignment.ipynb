{
 "cells": [
  {
   "cell_type": "code",
   "execution_count": 7,
   "id": "3500c451-1e1b-4e29-8273-47d2ed99b6ee",
   "metadata": {},
   "outputs": [],
   "source": [
    "# Import necessary libraries\n",
    "import pandas as pd\n",
    "from sklearn.feature_extraction.text import CountVectorizer\n",
    "from sklearn.model_selection import train_test_split\n",
    "from sklearn.naive_bayes import MultinomialNB\n",
    "from sklearn.metrics import classification_report"
   ]
  },
  {
   "cell_type": "code",
   "execution_count": 8,
   "id": "1d192fc2-d60a-45e9-b29f-fec3af6e6fc0",
   "metadata": {},
   "outputs": [],
   "source": [
    "message = pd.read_csv(\"detailed_message_classification_dataset.csv\")"
   ]
  },
  {
   "cell_type": "code",
   "execution_count": 9,
   "id": "2e8e0f64-3b21-4bb9-a8ee-a72a20f016a6",
   "metadata": {},
   "outputs": [
    {
     "data": {
      "text/html": [
       "<div>\n",
       "<style scoped>\n",
       "    .dataframe tbody tr th:only-of-type {\n",
       "        vertical-align: middle;\n",
       "    }\n",
       "\n",
       "    .dataframe tbody tr th {\n",
       "        vertical-align: top;\n",
       "    }\n",
       "\n",
       "    .dataframe thead th {\n",
       "        text-align: right;\n",
       "    }\n",
       "</style>\n",
       "<table border=\"1\" class=\"dataframe\">\n",
       "  <thead>\n",
       "    <tr style=\"text-align: right;\">\n",
       "      <th></th>\n",
       "      <th>user_id</th>\n",
       "      <th>user_category</th>\n",
       "      <th>Message_Content</th>\n",
       "      <th>Is_Spam</th>\n",
       "      <th>Suggested_Action</th>\n",
       "      <th>User_Tag</th>\n",
       "    </tr>\n",
       "  </thead>\n",
       "  <tbody>\n",
       "    <tr>\n",
       "      <th>0</th>\n",
       "      <td>1</td>\n",
       "      <td>Logistic</td>\n",
       "      <td>Your package is out for delivery. Tracking ID:...</td>\n",
       "      <td>0</td>\n",
       "      <td>Enable Track button for real-time tracking</td>\n",
       "      <td>Frequent Shopper</td>\n",
       "    </tr>\n",
       "    <tr>\n",
       "      <th>1</th>\n",
       "      <td>2</td>\n",
       "      <td>Power Bill</td>\n",
       "      <td>Your electricity bill of Rs. 1500 is due on 20...</td>\n",
       "      <td>0</td>\n",
       "      <td>Provide 'Pay Now' button for bill payment</td>\n",
       "      <td>Frequent Bill Payer</td>\n",
       "    </tr>\n",
       "    <tr>\n",
       "      <th>2</th>\n",
       "      <td>3</td>\n",
       "      <td>Recharge</td>\n",
       "      <td>Your recharge of Rs. 199 is successful. Validi...</td>\n",
       "      <td>0</td>\n",
       "      <td>Show 'Recharge Again' button</td>\n",
       "      <td>Frequent Recharge User</td>\n",
       "    </tr>\n",
       "    <tr>\n",
       "      <th>3</th>\n",
       "      <td>4</td>\n",
       "      <td>Fraud</td>\n",
       "      <td>URGENT: Update your KYC at fakebanklink.com to...</td>\n",
       "      <td>1</td>\n",
       "      <td>Block or Tag as Fraud</td>\n",
       "      <td>NaN</td>\n",
       "    </tr>\n",
       "    <tr>\n",
       "      <th>4</th>\n",
       "      <td>5</td>\n",
       "      <td>Power Bill</td>\n",
       "      <td>Your electricity bill of Rs. 1500 is due on 20...</td>\n",
       "      <td>0</td>\n",
       "      <td>Provide 'Pay Now' button for bill payment</td>\n",
       "      <td>Frequent Bill Payer</td>\n",
       "    </tr>\n",
       "    <tr>\n",
       "      <th>...</th>\n",
       "      <td>...</td>\n",
       "      <td>...</td>\n",
       "      <td>...</td>\n",
       "      <td>...</td>\n",
       "      <td>...</td>\n",
       "      <td>...</td>\n",
       "    </tr>\n",
       "    <tr>\n",
       "      <th>195</th>\n",
       "      <td>196</td>\n",
       "      <td>OTP</td>\n",
       "      <td>Your OTP is 123456. It will expire in 10 minutes.</td>\n",
       "      <td>0</td>\n",
       "      <td>Highlight OTP, Auto-delete after expiry</td>\n",
       "      <td>NaN</td>\n",
       "    </tr>\n",
       "    <tr>\n",
       "      <th>196</th>\n",
       "      <td>197</td>\n",
       "      <td>Spam</td>\n",
       "      <td>Congratulations! You've won a free iPhone. Cli...</td>\n",
       "      <td>1</td>\n",
       "      <td>Block or Tag as Spam</td>\n",
       "      <td>NaN</td>\n",
       "    </tr>\n",
       "    <tr>\n",
       "      <th>197</th>\n",
       "      <td>198</td>\n",
       "      <td>Logistic</td>\n",
       "      <td>Your package is out for delivery. Tracking ID:...</td>\n",
       "      <td>0</td>\n",
       "      <td>Enable Track button for real-time tracking</td>\n",
       "      <td>Frequent Shopper</td>\n",
       "    </tr>\n",
       "    <tr>\n",
       "      <th>198</th>\n",
       "      <td>199</td>\n",
       "      <td>Power Bill</td>\n",
       "      <td>Your electricity bill of Rs. 1500 is due on 20...</td>\n",
       "      <td>0</td>\n",
       "      <td>Provide 'Pay Now' button for bill payment</td>\n",
       "      <td>Frequent Bill Payer</td>\n",
       "    </tr>\n",
       "    <tr>\n",
       "      <th>199</th>\n",
       "      <td>200</td>\n",
       "      <td>Recharge</td>\n",
       "      <td>Your recharge of Rs. 199 is successful. Validi...</td>\n",
       "      <td>0</td>\n",
       "      <td>Show 'Recharge Again' button</td>\n",
       "      <td>Frequent Recharge User</td>\n",
       "    </tr>\n",
       "  </tbody>\n",
       "</table>\n",
       "<p>200 rows × 6 columns</p>\n",
       "</div>"
      ],
      "text/plain": [
       "     user_id user_category                                    Message_Content  \\\n",
       "0          1      Logistic  Your package is out for delivery. Tracking ID:...   \n",
       "1          2    Power Bill  Your electricity bill of Rs. 1500 is due on 20...   \n",
       "2          3      Recharge  Your recharge of Rs. 199 is successful. Validi...   \n",
       "3          4         Fraud  URGENT: Update your KYC at fakebanklink.com to...   \n",
       "4          5    Power Bill  Your electricity bill of Rs. 1500 is due on 20...   \n",
       "..       ...           ...                                                ...   \n",
       "195      196           OTP  Your OTP is 123456. It will expire in 10 minutes.   \n",
       "196      197          Spam  Congratulations! You've won a free iPhone. Cli...   \n",
       "197      198      Logistic  Your package is out for delivery. Tracking ID:...   \n",
       "198      199    Power Bill  Your electricity bill of Rs. 1500 is due on 20...   \n",
       "199      200      Recharge  Your recharge of Rs. 199 is successful. Validi...   \n",
       "\n",
       "     Is_Spam                            Suggested_Action  \\\n",
       "0          0  Enable Track button for real-time tracking   \n",
       "1          0   Provide 'Pay Now' button for bill payment   \n",
       "2          0                Show 'Recharge Again' button   \n",
       "3          1                       Block or Tag as Fraud   \n",
       "4          0   Provide 'Pay Now' button for bill payment   \n",
       "..       ...                                         ...   \n",
       "195        0     Highlight OTP, Auto-delete after expiry   \n",
       "196        1                        Block or Tag as Spam   \n",
       "197        0  Enable Track button for real-time tracking   \n",
       "198        0   Provide 'Pay Now' button for bill payment   \n",
       "199        0                Show 'Recharge Again' button   \n",
       "\n",
       "                   User_Tag  \n",
       "0          Frequent Shopper  \n",
       "1       Frequent Bill Payer  \n",
       "2    Frequent Recharge User  \n",
       "3                       NaN  \n",
       "4       Frequent Bill Payer  \n",
       "..                      ...  \n",
       "195                     NaN  \n",
       "196                     NaN  \n",
       "197        Frequent Shopper  \n",
       "198     Frequent Bill Payer  \n",
       "199  Frequent Recharge User  \n",
       "\n",
       "[200 rows x 6 columns]"
      ]
     },
     "execution_count": 9,
     "metadata": {},
     "output_type": "execute_result"
    }
   ],
   "source": [
    "message"
   ]
  },
  {
   "cell_type": "code",
   "execution_count": 10,
   "id": "341048db-6f04-4f51-941c-d66c048032a8",
   "metadata": {},
   "outputs": [
    {
     "ename": "KeyError",
     "evalue": "\"['Message_ID'] not found in axis\"",
     "output_type": "error",
     "traceback": [
      "\u001b[1;31m---------------------------------------------------------------------------\u001b[0m",
      "\u001b[1;31mKeyError\u001b[0m                                  Traceback (most recent call last)",
      "Cell \u001b[1;32mIn[10], line 1\u001b[0m\n\u001b[1;32m----> 1\u001b[0m \u001b[43mmessage\u001b[49m\u001b[38;5;241;43m.\u001b[39;49m\u001b[43mdrop\u001b[49m\u001b[43m(\u001b[49m\u001b[43mcolumns\u001b[49m\u001b[43m \u001b[49m\u001b[38;5;241;43m=\u001b[39;49m\u001b[43m[\u001b[49m\u001b[38;5;124;43m\"\u001b[39;49m\u001b[38;5;124;43mMessage_ID\u001b[39;49m\u001b[38;5;124;43m\"\u001b[39;49m\u001b[43m,\u001b[49m\u001b[38;5;124;43m\"\u001b[39;49m\u001b[38;5;124;43mIs_Spam\u001b[39;49m\u001b[38;5;124;43m\"\u001b[39;49m\u001b[43m,\u001b[49m\u001b[38;5;124;43m\"\u001b[39;49m\u001b[38;5;124;43mUser_Tag\u001b[39;49m\u001b[38;5;124;43m\"\u001b[39;49m\u001b[43m]\u001b[49m\u001b[43m,\u001b[49m\u001b[43minplace\u001b[49m\u001b[43m \u001b[49m\u001b[38;5;241;43m=\u001b[39;49m\u001b[38;5;28;43;01mTrue\u001b[39;49;00m\u001b[43m)\u001b[49m\n",
      "File \u001b[1;32m~\\AppData\\Roaming\\Python\\Python312\\site-packages\\pandas\\core\\frame.py:5581\u001b[0m, in \u001b[0;36mDataFrame.drop\u001b[1;34m(self, labels, axis, index, columns, level, inplace, errors)\u001b[0m\n\u001b[0;32m   5433\u001b[0m \u001b[38;5;28;01mdef\u001b[39;00m \u001b[38;5;21mdrop\u001b[39m(\n\u001b[0;32m   5434\u001b[0m     \u001b[38;5;28mself\u001b[39m,\n\u001b[0;32m   5435\u001b[0m     labels: IndexLabel \u001b[38;5;241m|\u001b[39m \u001b[38;5;28;01mNone\u001b[39;00m \u001b[38;5;241m=\u001b[39m \u001b[38;5;28;01mNone\u001b[39;00m,\n\u001b[1;32m   (...)\u001b[0m\n\u001b[0;32m   5442\u001b[0m     errors: IgnoreRaise \u001b[38;5;241m=\u001b[39m \u001b[38;5;124m\"\u001b[39m\u001b[38;5;124mraise\u001b[39m\u001b[38;5;124m\"\u001b[39m,\n\u001b[0;32m   5443\u001b[0m ) \u001b[38;5;241m-\u001b[39m\u001b[38;5;241m>\u001b[39m DataFrame \u001b[38;5;241m|\u001b[39m \u001b[38;5;28;01mNone\u001b[39;00m:\n\u001b[0;32m   5444\u001b[0m \u001b[38;5;250m    \u001b[39m\u001b[38;5;124;03m\"\"\"\u001b[39;00m\n\u001b[0;32m   5445\u001b[0m \u001b[38;5;124;03m    Drop specified labels from rows or columns.\u001b[39;00m\n\u001b[0;32m   5446\u001b[0m \n\u001b[1;32m   (...)\u001b[0m\n\u001b[0;32m   5579\u001b[0m \u001b[38;5;124;03m            weight  1.0     0.8\u001b[39;00m\n\u001b[0;32m   5580\u001b[0m \u001b[38;5;124;03m    \"\"\"\u001b[39;00m\n\u001b[1;32m-> 5581\u001b[0m     \u001b[38;5;28;01mreturn\u001b[39;00m \u001b[38;5;28;43msuper\u001b[39;49m\u001b[43m(\u001b[49m\u001b[43m)\u001b[49m\u001b[38;5;241;43m.\u001b[39;49m\u001b[43mdrop\u001b[49m\u001b[43m(\u001b[49m\n\u001b[0;32m   5582\u001b[0m \u001b[43m        \u001b[49m\u001b[43mlabels\u001b[49m\u001b[38;5;241;43m=\u001b[39;49m\u001b[43mlabels\u001b[49m\u001b[43m,\u001b[49m\n\u001b[0;32m   5583\u001b[0m \u001b[43m        \u001b[49m\u001b[43maxis\u001b[49m\u001b[38;5;241;43m=\u001b[39;49m\u001b[43maxis\u001b[49m\u001b[43m,\u001b[49m\n\u001b[0;32m   5584\u001b[0m \u001b[43m        \u001b[49m\u001b[43mindex\u001b[49m\u001b[38;5;241;43m=\u001b[39;49m\u001b[43mindex\u001b[49m\u001b[43m,\u001b[49m\n\u001b[0;32m   5585\u001b[0m \u001b[43m        \u001b[49m\u001b[43mcolumns\u001b[49m\u001b[38;5;241;43m=\u001b[39;49m\u001b[43mcolumns\u001b[49m\u001b[43m,\u001b[49m\n\u001b[0;32m   5586\u001b[0m \u001b[43m        \u001b[49m\u001b[43mlevel\u001b[49m\u001b[38;5;241;43m=\u001b[39;49m\u001b[43mlevel\u001b[49m\u001b[43m,\u001b[49m\n\u001b[0;32m   5587\u001b[0m \u001b[43m        \u001b[49m\u001b[43minplace\u001b[49m\u001b[38;5;241;43m=\u001b[39;49m\u001b[43minplace\u001b[49m\u001b[43m,\u001b[49m\n\u001b[0;32m   5588\u001b[0m \u001b[43m        \u001b[49m\u001b[43merrors\u001b[49m\u001b[38;5;241;43m=\u001b[39;49m\u001b[43merrors\u001b[49m\u001b[43m,\u001b[49m\n\u001b[0;32m   5589\u001b[0m \u001b[43m    \u001b[49m\u001b[43m)\u001b[49m\n",
      "File \u001b[1;32m~\\AppData\\Roaming\\Python\\Python312\\site-packages\\pandas\\core\\generic.py:4788\u001b[0m, in \u001b[0;36mNDFrame.drop\u001b[1;34m(self, labels, axis, index, columns, level, inplace, errors)\u001b[0m\n\u001b[0;32m   4786\u001b[0m \u001b[38;5;28;01mfor\u001b[39;00m axis, labels \u001b[38;5;129;01min\u001b[39;00m axes\u001b[38;5;241m.\u001b[39mitems():\n\u001b[0;32m   4787\u001b[0m     \u001b[38;5;28;01mif\u001b[39;00m labels \u001b[38;5;129;01mis\u001b[39;00m \u001b[38;5;129;01mnot\u001b[39;00m \u001b[38;5;28;01mNone\u001b[39;00m:\n\u001b[1;32m-> 4788\u001b[0m         obj \u001b[38;5;241m=\u001b[39m \u001b[43mobj\u001b[49m\u001b[38;5;241;43m.\u001b[39;49m\u001b[43m_drop_axis\u001b[49m\u001b[43m(\u001b[49m\u001b[43mlabels\u001b[49m\u001b[43m,\u001b[49m\u001b[43m \u001b[49m\u001b[43maxis\u001b[49m\u001b[43m,\u001b[49m\u001b[43m \u001b[49m\u001b[43mlevel\u001b[49m\u001b[38;5;241;43m=\u001b[39;49m\u001b[43mlevel\u001b[49m\u001b[43m,\u001b[49m\u001b[43m \u001b[49m\u001b[43merrors\u001b[49m\u001b[38;5;241;43m=\u001b[39;49m\u001b[43merrors\u001b[49m\u001b[43m)\u001b[49m\n\u001b[0;32m   4790\u001b[0m \u001b[38;5;28;01mif\u001b[39;00m inplace:\n\u001b[0;32m   4791\u001b[0m     \u001b[38;5;28mself\u001b[39m\u001b[38;5;241m.\u001b[39m_update_inplace(obj)\n",
      "File \u001b[1;32m~\\AppData\\Roaming\\Python\\Python312\\site-packages\\pandas\\core\\generic.py:4830\u001b[0m, in \u001b[0;36mNDFrame._drop_axis\u001b[1;34m(self, labels, axis, level, errors, only_slice)\u001b[0m\n\u001b[0;32m   4828\u001b[0m         new_axis \u001b[38;5;241m=\u001b[39m axis\u001b[38;5;241m.\u001b[39mdrop(labels, level\u001b[38;5;241m=\u001b[39mlevel, errors\u001b[38;5;241m=\u001b[39merrors)\n\u001b[0;32m   4829\u001b[0m     \u001b[38;5;28;01melse\u001b[39;00m:\n\u001b[1;32m-> 4830\u001b[0m         new_axis \u001b[38;5;241m=\u001b[39m \u001b[43maxis\u001b[49m\u001b[38;5;241;43m.\u001b[39;49m\u001b[43mdrop\u001b[49m\u001b[43m(\u001b[49m\u001b[43mlabels\u001b[49m\u001b[43m,\u001b[49m\u001b[43m \u001b[49m\u001b[43merrors\u001b[49m\u001b[38;5;241;43m=\u001b[39;49m\u001b[43merrors\u001b[49m\u001b[43m)\u001b[49m\n\u001b[0;32m   4831\u001b[0m     indexer \u001b[38;5;241m=\u001b[39m axis\u001b[38;5;241m.\u001b[39mget_indexer(new_axis)\n\u001b[0;32m   4833\u001b[0m \u001b[38;5;66;03m# Case for non-unique axis\u001b[39;00m\n\u001b[0;32m   4834\u001b[0m \u001b[38;5;28;01melse\u001b[39;00m:\n",
      "File \u001b[1;32m~\\AppData\\Roaming\\Python\\Python312\\site-packages\\pandas\\core\\indexes\\base.py:7070\u001b[0m, in \u001b[0;36mIndex.drop\u001b[1;34m(self, labels, errors)\u001b[0m\n\u001b[0;32m   7068\u001b[0m \u001b[38;5;28;01mif\u001b[39;00m mask\u001b[38;5;241m.\u001b[39many():\n\u001b[0;32m   7069\u001b[0m     \u001b[38;5;28;01mif\u001b[39;00m errors \u001b[38;5;241m!=\u001b[39m \u001b[38;5;124m\"\u001b[39m\u001b[38;5;124mignore\u001b[39m\u001b[38;5;124m\"\u001b[39m:\n\u001b[1;32m-> 7070\u001b[0m         \u001b[38;5;28;01mraise\u001b[39;00m \u001b[38;5;167;01mKeyError\u001b[39;00m(\u001b[38;5;124mf\u001b[39m\u001b[38;5;124m\"\u001b[39m\u001b[38;5;132;01m{\u001b[39;00mlabels[mask]\u001b[38;5;241m.\u001b[39mtolist()\u001b[38;5;132;01m}\u001b[39;00m\u001b[38;5;124m not found in axis\u001b[39m\u001b[38;5;124m\"\u001b[39m)\n\u001b[0;32m   7071\u001b[0m     indexer \u001b[38;5;241m=\u001b[39m indexer[\u001b[38;5;241m~\u001b[39mmask]\n\u001b[0;32m   7072\u001b[0m \u001b[38;5;28;01mreturn\u001b[39;00m \u001b[38;5;28mself\u001b[39m\u001b[38;5;241m.\u001b[39mdelete(indexer)\n",
      "\u001b[1;31mKeyError\u001b[0m: \"['Message_ID'] not found in axis\""
     ]
    }
   ],
   "source": [
    "message.drop(columns =[\"Message_ID\",\"Is_Spam\",\"User_Tag\"],inplace =True)"
   ]
  },
  {
   "cell_type": "code",
   "execution_count": 12,
   "id": "83027369-aabc-43e6-9dd5-f3ff8f223021",
   "metadata": {},
   "outputs": [
    {
     "data": {
      "text/html": [
       "<div>\n",
       "<style scoped>\n",
       "    .dataframe tbody tr th:only-of-type {\n",
       "        vertical-align: middle;\n",
       "    }\n",
       "\n",
       "    .dataframe tbody tr th {\n",
       "        vertical-align: top;\n",
       "    }\n",
       "\n",
       "    .dataframe thead th {\n",
       "        text-align: right;\n",
       "    }\n",
       "</style>\n",
       "<table border=\"1\" class=\"dataframe\">\n",
       "  <thead>\n",
       "    <tr style=\"text-align: right;\">\n",
       "      <th></th>\n",
       "      <th>user_id</th>\n",
       "      <th>user_category</th>\n",
       "      <th>Message_Content</th>\n",
       "      <th>Is_Spam</th>\n",
       "      <th>Suggested_Action</th>\n",
       "      <th>User_Tag</th>\n",
       "    </tr>\n",
       "  </thead>\n",
       "  <tbody>\n",
       "    <tr>\n",
       "      <th>0</th>\n",
       "      <td>1</td>\n",
       "      <td>Logistic</td>\n",
       "      <td>Your package is out for delivery. Tracking ID:...</td>\n",
       "      <td>0</td>\n",
       "      <td>Enable Track button for real-time tracking</td>\n",
       "      <td>Frequent Shopper</td>\n",
       "    </tr>\n",
       "    <tr>\n",
       "      <th>1</th>\n",
       "      <td>2</td>\n",
       "      <td>Power Bill</td>\n",
       "      <td>Your electricity bill of Rs. 1500 is due on 20...</td>\n",
       "      <td>0</td>\n",
       "      <td>Provide 'Pay Now' button for bill payment</td>\n",
       "      <td>Frequent Bill Payer</td>\n",
       "    </tr>\n",
       "    <tr>\n",
       "      <th>2</th>\n",
       "      <td>3</td>\n",
       "      <td>Recharge</td>\n",
       "      <td>Your recharge of Rs. 199 is successful. Validi...</td>\n",
       "      <td>0</td>\n",
       "      <td>Show 'Recharge Again' button</td>\n",
       "      <td>Frequent Recharge User</td>\n",
       "    </tr>\n",
       "    <tr>\n",
       "      <th>3</th>\n",
       "      <td>4</td>\n",
       "      <td>Fraud</td>\n",
       "      <td>URGENT: Update your KYC at fakebanklink.com to...</td>\n",
       "      <td>1</td>\n",
       "      <td>Block or Tag as Fraud</td>\n",
       "      <td>NaN</td>\n",
       "    </tr>\n",
       "    <tr>\n",
       "      <th>4</th>\n",
       "      <td>5</td>\n",
       "      <td>Power Bill</td>\n",
       "      <td>Your electricity bill of Rs. 1500 is due on 20...</td>\n",
       "      <td>0</td>\n",
       "      <td>Provide 'Pay Now' button for bill payment</td>\n",
       "      <td>Frequent Bill Payer</td>\n",
       "    </tr>\n",
       "    <tr>\n",
       "      <th>...</th>\n",
       "      <td>...</td>\n",
       "      <td>...</td>\n",
       "      <td>...</td>\n",
       "      <td>...</td>\n",
       "      <td>...</td>\n",
       "      <td>...</td>\n",
       "    </tr>\n",
       "    <tr>\n",
       "      <th>195</th>\n",
       "      <td>196</td>\n",
       "      <td>OTP</td>\n",
       "      <td>Your OTP is 123456. It will expire in 10 minutes.</td>\n",
       "      <td>0</td>\n",
       "      <td>Highlight OTP, Auto-delete after expiry</td>\n",
       "      <td>NaN</td>\n",
       "    </tr>\n",
       "    <tr>\n",
       "      <th>196</th>\n",
       "      <td>197</td>\n",
       "      <td>Spam</td>\n",
       "      <td>Congratulations! You've won a free iPhone. Cli...</td>\n",
       "      <td>1</td>\n",
       "      <td>Block or Tag as Spam</td>\n",
       "      <td>NaN</td>\n",
       "    </tr>\n",
       "    <tr>\n",
       "      <th>197</th>\n",
       "      <td>198</td>\n",
       "      <td>Logistic</td>\n",
       "      <td>Your package is out for delivery. Tracking ID:...</td>\n",
       "      <td>0</td>\n",
       "      <td>Enable Track button for real-time tracking</td>\n",
       "      <td>Frequent Shopper</td>\n",
       "    </tr>\n",
       "    <tr>\n",
       "      <th>198</th>\n",
       "      <td>199</td>\n",
       "      <td>Power Bill</td>\n",
       "      <td>Your electricity bill of Rs. 1500 is due on 20...</td>\n",
       "      <td>0</td>\n",
       "      <td>Provide 'Pay Now' button for bill payment</td>\n",
       "      <td>Frequent Bill Payer</td>\n",
       "    </tr>\n",
       "    <tr>\n",
       "      <th>199</th>\n",
       "      <td>200</td>\n",
       "      <td>Recharge</td>\n",
       "      <td>Your recharge of Rs. 199 is successful. Validi...</td>\n",
       "      <td>0</td>\n",
       "      <td>Show 'Recharge Again' button</td>\n",
       "      <td>Frequent Recharge User</td>\n",
       "    </tr>\n",
       "  </tbody>\n",
       "</table>\n",
       "<p>200 rows × 6 columns</p>\n",
       "</div>"
      ],
      "text/plain": [
       "     user_id user_category                                    Message_Content  \\\n",
       "0          1      Logistic  Your package is out for delivery. Tracking ID:...   \n",
       "1          2    Power Bill  Your electricity bill of Rs. 1500 is due on 20...   \n",
       "2          3      Recharge  Your recharge of Rs. 199 is successful. Validi...   \n",
       "3          4         Fraud  URGENT: Update your KYC at fakebanklink.com to...   \n",
       "4          5    Power Bill  Your electricity bill of Rs. 1500 is due on 20...   \n",
       "..       ...           ...                                                ...   \n",
       "195      196           OTP  Your OTP is 123456. It will expire in 10 minutes.   \n",
       "196      197          Spam  Congratulations! You've won a free iPhone. Cli...   \n",
       "197      198      Logistic  Your package is out for delivery. Tracking ID:...   \n",
       "198      199    Power Bill  Your electricity bill of Rs. 1500 is due on 20...   \n",
       "199      200      Recharge  Your recharge of Rs. 199 is successful. Validi...   \n",
       "\n",
       "     Is_Spam                            Suggested_Action  \\\n",
       "0          0  Enable Track button for real-time tracking   \n",
       "1          0   Provide 'Pay Now' button for bill payment   \n",
       "2          0                Show 'Recharge Again' button   \n",
       "3          1                       Block or Tag as Fraud   \n",
       "4          0   Provide 'Pay Now' button for bill payment   \n",
       "..       ...                                         ...   \n",
       "195        0     Highlight OTP, Auto-delete after expiry   \n",
       "196        1                        Block or Tag as Spam   \n",
       "197        0  Enable Track button for real-time tracking   \n",
       "198        0   Provide 'Pay Now' button for bill payment   \n",
       "199        0                Show 'Recharge Again' button   \n",
       "\n",
       "                   User_Tag  \n",
       "0          Frequent Shopper  \n",
       "1       Frequent Bill Payer  \n",
       "2    Frequent Recharge User  \n",
       "3                       NaN  \n",
       "4       Frequent Bill Payer  \n",
       "..                      ...  \n",
       "195                     NaN  \n",
       "196                     NaN  \n",
       "197        Frequent Shopper  \n",
       "198     Frequent Bill Payer  \n",
       "199  Frequent Recharge User  \n",
       "\n",
       "[200 rows x 6 columns]"
      ]
     },
     "execution_count": 12,
     "metadata": {},
     "output_type": "execute_result"
    }
   ],
   "source": [
    "message"
   ]
  },
  {
   "cell_type": "code",
   "execution_count": 14,
   "id": "afad2b0c-09bd-4525-bc92-a0f1813b8c64",
   "metadata": {},
   "outputs": [
    {
     "data": {
      "text/plain": [
       "user_id              0\n",
       "user_category        0\n",
       "Message_Content      0\n",
       "Is_Spam              0\n",
       "Suggested_Action     0\n",
       "User_Tag            96\n",
       "dtype: int64"
      ]
     },
     "execution_count": 14,
     "metadata": {},
     "output_type": "execute_result"
    }
   ],
   "source": [
    "message.isna().sum()"
   ]
  },
  {
   "cell_type": "code",
   "execution_count": null,
   "id": "660ee806-db53-46b8-896f-a685c7bc546f",
   "metadata": {},
   "outputs": [],
   "source": [
    "df.isna().sum()"
   ]
  },
  {
   "cell_type": "code",
   "execution_count": null,
   "id": "6e9a8a8d-c10e-45b9-9398-134830fe2ea2",
   "metadata": {},
   "outputs": [],
   "source": [
    "message.shape"
   ]
  },
  {
   "cell_type": "code",
   "execution_count": null,
   "id": "5bab5ea3-21b8-494f-8a6d-50f2f22720d4",
   "metadata": {},
   "outputs": [],
   "source": [
    "message.reset_index(drop =True)"
   ]
  },
  {
   "cell_type": "code",
   "execution_count": null,
   "id": "96a07dea-dbc9-4bce-9d25-c115183b9344",
   "metadata": {},
   "outputs": [],
   "source": [
    "x  =message.iloc[:,1]\n",
    "y =message[\"Message_Type\"]"
   ]
  },
  {
   "cell_type": "code",
   "execution_count": null,
   "id": "2f2f4644-939b-4241-99f0-cd5b07a834e1",
   "metadata": {},
   "outputs": [],
   "source": [
    "vectorizer = CountVectorizer()\n",
    "X = vectorizer.fit_transform(x)\n"
   ]
  },
  {
   "cell_type": "code",
   "execution_count": null,
   "id": "fffa8f19-9921-4c84-9563-12b51ed8261f",
   "metadata": {},
   "outputs": [],
   "source": [
    "from sklearn.preprocessing import LabelEncoder\n",
    "encoder = LabelEncoder()"
   ]
  },
  {
   "cell_type": "code",
   "execution_count": null,
   "id": "5752878e-3d01-441a-8f70-1e87e8f369c3",
   "metadata": {},
   "outputs": [],
   "source": [
    "y = encoder.fit_transform(message[\"Message_Type\"])"
   ]
  },
  {
   "cell_type": "code",
   "execution_count": null,
   "id": "7a77c59c-72c4-4082-962e-d2dc2bfd592f",
   "metadata": {},
   "outputs": [],
   "source": [
    "x_train,x_test,y_train,y_test = train_test_split(X,y,test_size =0.2,random_state =42)"
   ]
  },
  {
   "cell_type": "markdown",
   "id": "423976c6-bab6-448c-a6b9-00f6cd4e038b",
   "metadata": {},
   "source": [
    "# Model building "
   ]
  },
  {
   "cell_type": "code",
   "execution_count": null,
   "id": "16291022-683e-4d68-9f3d-c87ee0779ba4",
   "metadata": {},
   "outputs": [],
   "source": [
    "# Train a Naive Bayes Classifier\n",
    "model = MultinomialNB()\n",
    "model.fit(x_train, y_train)"
   ]
  },
  {
   "cell_type": "code",
   "execution_count": null,
   "id": "f79c03bf-1ee4-49ea-8b71-c9c92435e5fa",
   "metadata": {},
   "outputs": [],
   "source": [
    "# Evaluate the model\n",
    "y_pred = model.predict(x_test)\n",
    "print(classification_report(y_test, y_pred))\n"
   ]
  },
  {
   "cell_type": "code",
   "execution_count": null,
   "id": "5c4004c8-6d6c-4b81-9064-103f601bc586",
   "metadata": {},
   "outputs": [],
   "source": [
    "new_message = [\"Your power bill of $100 is due. Pay now to avoid penalties.\"]\n",
    "new_message_vectorized = vectorizer.transform(new_message)\n",
    "prediction = model.predict(new_message_vectorized)\n",
    "print(\"Predicted Category:\", prediction[0])"
   ]
  },
  {
   "cell_type": "code",
   "execution_count": null,
   "id": "b922ad91-3bbb-402e-8273-ba0d4ab0954a",
   "metadata": {},
   "outputs": [],
   "source": [
    "# pickling the model "
   ]
  },
  {
   "cell_type": "code",
   "execution_count": null,
   "id": "41143a75-a21e-45ff-97e5-aa23564041a9",
   "metadata": {},
   "outputs": [],
   "source": [
    "import pickle \n"
   ]
  },
  {
   "cell_type": "code",
   "execution_count": null,
   "id": "24b8a932-511a-466b-9a3d-1455c59ecbbe",
   "metadata": {},
   "outputs": [],
   "source": [
    "with open(\"model.pkl\",\"wb\") as file:\n",
    "    pickle.dump(model,file)\n",
    "    print(\"sucessfully created\")"
   ]
  },
  {
   "cell_type": "code",
   "execution_count": null,
   "id": "79d77a95-cd58-4794-afec-1ccd22de3ecc",
   "metadata": {},
   "outputs": [],
   "source": [
    "y"
   ]
  },
  {
   "cell_type": "code",
   "execution_count": null,
   "id": "aa12b4cf-75e1-4114-8b6e-44041872237d",
   "metadata": {},
   "outputs": [],
   "source": [
    "message[\"Message_Type\"].value_counts()"
   ]
  },
  {
   "cell_type": "code",
   "execution_count": null,
   "id": "7414f86b-e592-4c7c-bc32-e0fefcf1ec27",
   "metadata": {},
   "outputs": [],
   "source": [
    "message[\"Message_Type\"]"
   ]
  },
  {
   "cell_type": "code",
   "execution_count": null,
   "id": "5378a06c-98cc-424a-91ab-c55a5a08d7b4",
   "metadata": {},
   "outputs": [],
   "source": [
    "y"
   ]
  },
  {
   "cell_type": "code",
   "execution_count": null,
   "id": "cae72ed1-570d-4ba9-a75c-8f75b62b4aad",
   "metadata": {},
   "outputs": [],
   "source": [
    "label_mapping = dict(zip(encoder.classes_, range(len(encoder.classes_))))"
   ]
  },
  {
   "cell_type": "code",
   "execution_count": null,
   "id": "86df8bce-98af-4d25-b4f4-5dd21802134c",
   "metadata": {},
   "outputs": [],
   "source": [
    "print(\"Label Mapping:\", label_mapping)\n"
   ]
  },
  {
   "cell_type": "code",
   "execution_count": null,
   "id": "e63e3c6d-6f31-4717-b4a4-14b5770427c0",
   "metadata": {},
   "outputs": [],
   "source": [
    "with open(\"vectorizer.pkl\",\"wb\") as file:\n",
    "    pickle.dump(vectorizer,file)\n",
    "    print(\"sucessfully created\")"
   ]
  },
  {
   "cell_type": "code",
   "execution_count": 6,
   "id": "3f47cb44-13bd-4607-97e3-0f99c66c9209",
   "metadata": {},
   "outputs": [
    {
     "ename": "NameError",
     "evalue": "name 'X' is not defined",
     "output_type": "error",
     "traceback": [
      "\u001b[1;31m---------------------------------------------------------------------------\u001b[0m",
      "\u001b[1;31mNameError\u001b[0m                                 Traceback (most recent call last)",
      "Cell \u001b[1;32mIn[6], line 1\u001b[0m\n\u001b[1;32m----> 1\u001b[0m \u001b[43mX\u001b[49m\u001b[38;5;241m.\u001b[39mshape\n",
      "\u001b[1;31mNameError\u001b[0m: name 'X' is not defined"
     ]
    }
   ],
   "source": [
    "X.shape"
   ]
  },
  {
   "cell_type": "code",
   "execution_count": null,
   "id": "bf9d7994-aa98-456f-9b19-b744c9b7ef51",
   "metadata": {},
   "outputs": [],
   "source": []
  }
 ],
 "metadata": {
  "kernelspec": {
   "display_name": "Python 3 (ipykernel)",
   "language": "python",
   "name": "python3"
  },
  "language_info": {
   "codemirror_mode": {
    "name": "ipython",
    "version": 3
   },
   "file_extension": ".py",
   "mimetype": "text/x-python",
   "name": "python",
   "nbconvert_exporter": "python",
   "pygments_lexer": "ipython3",
   "version": "3.12.4"
  }
 },
 "nbformat": 4,
 "nbformat_minor": 5
}
